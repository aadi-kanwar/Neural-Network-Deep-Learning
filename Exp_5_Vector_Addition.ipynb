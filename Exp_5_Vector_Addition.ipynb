{
  "nbformat": 4,
  "nbformat_minor": 0,
  "metadata": {
    "colab": {
      "provenance": [],
      "authorship_tag": "ABX9TyPT13jiU4jXJs8wIaVCLccd",
      "include_colab_link": true
    },
    "kernelspec": {
      "name": "python3",
      "display_name": "Python 3"
    },
    "language_info": {
      "name": "python"
    }
  },
  "cells": [
    {
      "cell_type": "markdown",
      "metadata": {
        "id": "view-in-github",
        "colab_type": "text"
      },
      "source": [
        "<a href=\"https://colab.research.google.com/github/aadi-kanwar/Neural-Network-Deep-Learning/blob/main/Exp_5_Vector_Addition.ipynb\" target=\"_parent\"><img src=\"https://colab.research.google.com/assets/colab-badge.svg\" alt=\"Open In Colab\"/></a>"
      ]
    },
    {
      "cell_type": "markdown",
      "source": [
        "\n",
        "## Implementing Simple Vector Addition in Tensorflow\n",
        "---\n",
        "\n"
      ],
      "metadata": {
        "id": "SLaOa0pGzfSi"
      }
    },
    {
      "cell_type": "code",
      "execution_count": 1,
      "metadata": {
        "id": "XJ0B-gQqynoJ"
      },
      "outputs": [],
      "source": [
        "import tensorflow as tf"
      ]
    },
    {
      "cell_type": "code",
      "source": [
        "# Define two Vectors\n",
        "v1 = tf.constant([10, 20, 30], dtype = tf.float32)\n",
        "v2 = tf.constant([1, 2, 3], dtype = tf.float32)\n",
        "\n",
        "# Perform Vector Addition\n",
        "r = tf.add(v1, v2)\n",
        "\n",
        "print(\"Result of vector addition : \", r.numpy())"
      ],
      "metadata": {
        "colab": {
          "base_uri": "https://localhost:8080/"
        },
        "id": "XZQTU4Upzt3Q",
        "outputId": "13d9250b-28e5-4b67-a370-5d5aa13657aa"
      },
      "execution_count": 2,
      "outputs": [
        {
          "output_type": "stream",
          "name": "stdout",
          "text": [
            "Result of vector addition :  [11. 22. 33.]\n"
          ]
        }
      ]
    }
  ]
}