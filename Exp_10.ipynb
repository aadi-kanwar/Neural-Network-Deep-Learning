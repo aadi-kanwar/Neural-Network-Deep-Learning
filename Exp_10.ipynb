{
  "nbformat": 4,
  "nbformat_minor": 0,
  "metadata": {
    "colab": {
      "provenance": [],
      "authorship_tag": "ABX9TyPRsGGPVMtG8qw67gyt4kNE",
      "include_colab_link": true
    },
    "kernelspec": {
      "name": "python3",
      "display_name": "Python 3"
    },
    "language_info": {
      "name": "python"
    }
  },
  "cells": [
    {
      "cell_type": "markdown",
      "metadata": {
        "id": "view-in-github",
        "colab_type": "text"
      },
      "source": [
        "<a href=\"https://colab.research.google.com/github/aadi-kanwar/Neural-Network-Deep-Learning/blob/main/Exp_10.ipynb\" target=\"_parent\"><img src=\"https://colab.research.google.com/assets/colab-badge.svg\" alt=\"Open In Colab\"/></a>"
      ]
    },
    {
      "cell_type": "markdown",
      "source": [
        "## 1. Simulate the dataset"
      ],
      "metadata": {
        "id": "B-G0KGzGHDU1"
      }
    },
    {
      "cell_type": "code",
      "execution_count": 5,
      "metadata": {
        "id": "4kgB81ywHAwV"
      },
      "outputs": [],
      "source": [
        "import numpy as np\n",
        "import cv2\n",
        "import random\n",
        "import tensorflow as tf\n",
        "from tensorflow.keras.utils import to_categorical\n",
        "import matplotlib.pyplot as plt"
      ]
    },
    {
      "cell_type": "code",
      "source": [
        "# Generate a synthetic image dataset with bounding boxes\n",
        "def generate_image(shape, img_size = 64):\n",
        "    img = np.ones((img_size, img_size, 3)) * 255\n",
        "    if shape == 'square':\n",
        "        size = random.randint(10, 30)\n",
        "        x1, y1 = random.randint(0, img_size - size), random.randint(0, img_size - size)\n",
        "        x2, y2 = x1 + size, y1 + size\n",
        "        cv2.rectangle(img, (x1, y1), (x2, y2), (0, 0, 0), -1)\n",
        "        label = [0,1]   # Square Class\n",
        "    elif shape == 'circle':\n",
        "        radius = random.randint(10, 30)\n",
        "        x, y = random.randint(radius, img_size - radius), random.randint(radius, img_size - radius)\n",
        "        cv2.circle(img, (x, y), radius, (0, 0, 0), -1)\n",
        "        x1, y1, x2, y2 = x - radius, y - radius, x + radius, y + radius\n",
        "        label = [0,1]   # Circle Class\n",
        "    return img/255.0, label, [x1/img_size, y1/img_size, x2/img_size, y2/img_size]   # Normalize bbox"
      ],
      "metadata": {
        "id": "d9w0Y75xHWR-"
      },
      "execution_count": 6,
      "outputs": []
    },
    {
      "cell_type": "code",
      "source": [
        "# Generate Dataset\n",
        "def generate_dataset(n_samples=1000, img_size = 64):\n",
        "    images = []\n",
        "    labels = []\n",
        "    bboxes = []\n",
        "    for _ in range(n_samples):\n",
        "        shape = random.choice(['square', 'circle'])\n",
        "        img, label, bbox = generate_image(shape, img_size)\n",
        "        images.append(img)\n",
        "        labels.append(label)\n",
        "        bboxes.append(bbox)\n",
        "    return np.array(images), np.array(labels), np.array(bboxes)"
      ],
      "metadata": {
        "id": "LsM4s4uzI76U"
      },
      "execution_count": 7,
      "outputs": []
    },
    {
      "cell_type": "code",
      "source": [
        "# Generate dataset with 1000 samples\n",
        "X, y, bboxes = generate_dataset(n_samples=1000)\n",
        "print(\"Dataset Shape:\", X.shape, y.shape, bboxes.shape)"
      ],
      "metadata": {
        "colab": {
          "base_uri": "https://localhost:8080/"
        },
        "id": "PLFeEzSKLi53",
        "outputId": "c02e730f-c86d-4fc9-f04b-071c9826ffe8"
      },
      "execution_count": 8,
      "outputs": [
        {
          "output_type": "stream",
          "name": "stdout",
          "text": [
            "Dataset Shape: (1000, 64, 64, 3) (1000, 2) (1000, 4)\n"
          ]
        }
      ]
    },
    {
      "cell_type": "code",
      "source": [
        "# Display sample image\n",
        "plt.imshow(X[0])\n",
        "plt.title(f'Label: {y[0]} Bounding Box: {bboxes[0]}')\n",
        "plt.show()"
      ],
      "metadata": {
        "colab": {
          "base_uri": "https://localhost:8080/",
          "height": 452
        },
        "id": "d5eJ5NsfOyGt",
        "outputId": "a72795da-3a40-41b8-fdd8-4d50ec728db6"
      },
      "execution_count": 11,
      "outputs": [
        {
          "output_type": "display_data",
          "data": {
            "text/plain": [
              "<Figure size 640x480 with 1 Axes>"
            ],
            "image/png": "[encoded data removed]"
          },
          "metadata": {}
        }
      ]
    },
    {
      "cell_type": "code",
      "source": [],
      "metadata": {
        "id": "Lv0X8pY7O_nP"
      },
      "execution_count": 11,
      "outputs": []
    }
  ]
}