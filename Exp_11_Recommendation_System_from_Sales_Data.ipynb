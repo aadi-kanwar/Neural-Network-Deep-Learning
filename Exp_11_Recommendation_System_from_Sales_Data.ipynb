{
  "nbformat": 4,
  "nbformat_minor": 0,
  "metadata": {
    "colab": {
      "provenance": [],
      "gpuType": "T4",
      "authorship_tag": "ABX9TyOJoJPvkZ3avj22i5J5ajVd",
      "include_colab_link": true
    },
    "kernelspec": {
      "name": "python3",
      "display_name": "Python 3"
    },
    "language_info": {
      "name": "python"
    },
    "accelerator": "GPU"
  },
  "cells": [
    {
      "cell_type": "markdown",
      "metadata": {
        "id": "view-in-github",
        "colab_type": "text"
      },
      "source": [
        "<a href=\"https://colab.research.google.com/github/aadi-kanwar/Neural-Network-Deep-Learning/blob/main/Exp_11_Recommendation_System_from_Sales_Data.ipynb\" target=\"_parent\"><img src=\"https://colab.research.google.com/assets/colab-badge.svg\" alt=\"Open In Colab\"/></a>"
      ]
    },
    {
      "cell_type": "markdown",
      "source": [
        "## Import required Libraries and Datasets"
      ],
      "metadata": {
        "id": "Tc9Jv2IAPwGQ"
      }
    },
    {
      "cell_type": "code",
      "source": [
        "import tensorflow as tf\n",
        "from tensorflow.keras.models import Model\n",
        "from tensorflow.keras.layers import Input, Embedding, Flatten, Dot, Dense\n",
        "import numpy as np\n",
        "import pandas as pd"
      ],
      "metadata": {
        "id": "3qNZS-wVPu0K"
      },
      "execution_count": null,
      "outputs": []
    },
    {
      "cell_type": "markdown",
      "source": [
        "## 1. Load and Pre-process the data"
      ],
      "metadata": {
        "id": "f3kxVu0GQmls"
      }
    },
    {
      "cell_type": "code",
      "source": [
        "data = pd.read_csv('/content/amazon.csv')\n",
        "\n",
        "num_users = data['user_id'].nunique()\n",
        "num_products = data['product_id'].nunique()"
      ],
      "metadata": {
        "id": "lXDvLz9VQp2l"
      },
      "execution_count": null,
      "outputs": []
    },
    {
      "cell_type": "markdown",
      "source": [
        "## 2. Define model architecture"
      ],
      "metadata": {
        "id": "NZS0XJQZR0IQ"
      }
    },
    {
      "cell_type": "code",
      "source": [
        "# Define input layers for users and items\n",
        "user_input = Input(shape=(1,), name='user_input')\n",
        "item_input = Input(shape=(1,), name='item_input')\n",
        "\n",
        "embedding_size = 50\n",
        "# Embedding layers for users\n",
        "user_embedding = Embedding(input_dim=num_users + 1, output_dim=embedding_size, name='user_embedding')(user_input)\n",
        "item_embedding = Embedding(input_dim=num_products + 1, output_dim=embedding_size, name='item_embedding')(item_input)\n",
        "\n",
        "# Flatten the embedding\n",
        "user_vec = Flatten()(user_embedding)\n",
        "item_vec = Flatten()(item_embedding)\n",
        "\n",
        "# Calculate the dot product\n",
        "dot_product = Dot(axes=1)([user_vec, item_vec])\n",
        "\n",
        "# Add dense layers to further learn nonlinear interactions\n",
        "x = Dense(128, activation='relu')(dot_product)\n",
        "x = Dense(64, activation = 'relu')(x)\n",
        "\n",
        "# Output Layer\n",
        "output = Dense(1, activation='sigmoid')(x)"
      ],
      "metadata": {
        "id": "jxVvSNyXR7Av"
      },
      "execution_count": null,
      "outputs": []
    },
    {
      "cell_type": "markdown",
      "source": [
        "## 3. Compile the model"
      ],
      "metadata": {
        "id": "tZVUrvpkUi6C"
      }
    },
    {
      "cell_type": "code",
      "source": [
        "# Create the model\n",
        "model = Model(inputs=[user_input, item_input], outputs=output)\n",
        "model.compile(optimizer= 'adam', loss = 'binary_crossentropy', metrics=['accuracy'])"
      ],
      "metadata": {
        "id": "h_onzX2sSDlR"
      },
      "execution_count": null,
      "outputs": []
    },
    {
      "cell_type": "markdown",
      "source": [
        "## 4. Train the model"
      ],
      "metadata": {
        "id": "bIoAMMTRU1lU"
      }
    },
    {
      "cell_type": "code",
      "source": [
        "# Prepare data for training.\n",
        "user_data = data['user_id'].values\n",
        "item_data = data['product_id'].values\n",
        "review_data = data['review_content'].values"
      ],
      "metadata": {
        "id": "8ukJFmGdUxon"
      },
      "execution_count": null,
      "outputs": []
    },
    {
      "cell_type": "code",
      "source": [],
      "metadata": {
        "id": "xzREy0ZoVe6S"
      },
      "execution_count": null,
      "outputs": []
    }
  ]
}